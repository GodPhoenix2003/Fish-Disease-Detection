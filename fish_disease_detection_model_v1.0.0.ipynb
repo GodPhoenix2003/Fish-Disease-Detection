{
 "cells": [
  {
   "cell_type": "code",
   "execution_count": 1,
   "id": "initial_id",
   "metadata": {
    "collapsed": true,
    "ExecuteTime": {
     "end_time": "2024-03-13T03:58:13.932861Z",
     "start_time": "2024-03-13T03:58:11.906369Z"
    }
   },
   "outputs": [],
   "source": [
    "import tensorflow as tf\n",
    "import matplotlib.pyplot as plt\n",
    "import pandas as pd\n",
    "import seaborn as sns"
   ]
  },
  {
   "cell_type": "code",
   "outputs": [
    {
     "name": "stdout",
     "output_type": "stream",
     "text": [
      "Found 280 files belonging to 7 classes.\n"
     ]
    }
   ],
   "source": [
    "training_set = tf.keras.utils.image_dataset_from_directory('C:/Coding/Sem 6 Project/DataSet/Train',\n",
    "    labels=\"inferred\",\n",
    "    label_mode=\"categorical\",\n",
    "    class_names=None,\n",
    "    color_mode=\"rgb\",\n",
    "    batch_size=32,\n",
    "    image_size=(224, 224),\n",
    "    shuffle=True,\n",
    "    seed=None,\n",
    "    validation_split=None,\n",
    "    subset=None,\n",
    "    interpolation=\"bilinear\",\n",
    "    follow_links=False,\n",
    "    crop_to_aspect_ratio=False,\n",
    ")"
   ],
   "metadata": {
    "collapsed": false,
    "ExecuteTime": {
     "end_time": "2024-03-13T03:58:38.070797Z",
     "start_time": "2024-03-13T03:58:37.678705Z"
    }
   },
   "id": "dd146aa8f332e8d2",
   "execution_count": 2
  },
  {
   "cell_type": "code",
   "outputs": [
    {
     "name": "stdout",
     "output_type": "stream",
     "text": [
      "Found 158 files belonging to 7 classes.\n"
     ]
    }
   ],
   "source": [
    "validation_set = tf.keras.utils.image_dataset_from_directory('C:/Coding/Sem 6 Project/DataSet/Valid',\n",
    "    labels=\"inferred\",\n",
    "    label_mode=\"categorical\",\n",
    "    class_names=None,\n",
    "    color_mode=\"rgb\",\n",
    "    batch_size=32,\n",
    "    image_size=(224, 224),\n",
    "    shuffle=True,\n",
    "    seed=None,\n",
    "    validation_split=None,\n",
    "    subset=None,\n",
    "    interpolation=\"bilinear\",\n",
    "    follow_links=False,\n",
    "    crop_to_aspect_ratio=False\n",
    ")"
   ],
   "metadata": {
    "collapsed": false,
    "ExecuteTime": {
     "end_time": "2024-03-13T03:58:39.276745Z",
     "start_time": "2024-03-13T03:58:39.221432Z"
    }
   },
   "id": "2dc3c885f17d54d9",
   "execution_count": 3
  },
  {
   "cell_type": "code",
   "outputs": [],
   "source": [
    "cnn = tf.keras.models.Sequential()"
   ],
   "metadata": {
    "collapsed": false,
    "ExecuteTime": {
     "end_time": "2024-03-13T03:58:40.061379Z",
     "start_time": "2024-03-13T03:58:40.034665Z"
    }
   },
   "id": "757b297100d9599f",
   "execution_count": 4
  },
  {
   "cell_type": "code",
   "outputs": [],
   "source": [
    "cnn.add(tf.keras.layers.Conv2D(filters=32, kernel_size=3, padding='same', activation='relu', input_shape=[224,224,3]))\n",
    "cnn.add(tf.keras.layers.Conv2D(filters=32, kernel_size=3, activation='relu'))\n",
    "cnn.add(tf.keras.layers.MaxPool2D(pool_size=2, strides=2))"
   ],
   "metadata": {
    "collapsed": false,
    "ExecuteTime": {
     "end_time": "2024-03-13T03:58:41.094260Z",
     "start_time": "2024-03-13T03:58:41.030244Z"
    }
   },
   "id": "21f14a2d721aa694",
   "execution_count": 5
  },
  {
   "cell_type": "code",
   "outputs": [],
   "source": [
    "cnn.add(tf.keras.layers.Conv2D(filters=64, kernel_size=3, padding='same', activation='relu'))\n",
    "cnn.add(tf.keras.layers.Conv2D(filters=64, kernel_size=3, activation='relu'))\n",
    "cnn.add(tf.keras.layers.MaxPool2D(pool_size=2, strides=2))"
   ],
   "metadata": {
    "collapsed": false,
    "ExecuteTime": {
     "end_time": "2024-03-13T03:58:41.859975Z",
     "start_time": "2024-03-13T03:58:41.821546Z"
    }
   },
   "id": "621fe9d44055f469",
   "execution_count": 6
  },
  {
   "cell_type": "code",
   "outputs": [],
   "source": [
    "cnn.add(tf.keras.layers.Conv2D(filters=128, kernel_size=3, padding='same', activation='relu'))\n",
    "cnn.add(tf.keras.layers.Conv2D(filters=128, kernel_size=3, activation='relu'))\n",
    "cnn.add(tf.keras.layers.MaxPool2D(pool_size=2, strides=2))"
   ],
   "metadata": {
    "collapsed": false,
    "ExecuteTime": {
     "end_time": "2024-03-13T03:58:43.221213Z",
     "start_time": "2024-03-13T03:58:43.193521Z"
    }
   },
   "id": "1275c19dbd56f8c1",
   "execution_count": 7
  },
  {
   "cell_type": "code",
   "outputs": [],
   "source": [
    "cnn.add(tf.keras.layers.Conv2D(filters=256, kernel_size=3, padding='same', activation='relu'))\n",
    "cnn.add(tf.keras.layers.Conv2D(filters=256, kernel_size=3, activation='relu'))\n",
    "cnn.add(tf.keras.layers.MaxPool2D(pool_size=2, strides=2))"
   ],
   "metadata": {
    "collapsed": false,
    "ExecuteTime": {
     "end_time": "2024-03-13T03:58:43.846558Z",
     "start_time": "2024-03-13T03:58:43.817114Z"
    }
   },
   "id": "9d6b36b3419e6e5f",
   "execution_count": 8
  },
  {
   "cell_type": "code",
   "outputs": [],
   "source": [
    "cnn.add(tf.keras.layers.Conv2D(filters=512, kernel_size=3, padding='same', activation='relu'))\n",
    "cnn.add(tf.keras.layers.Conv2D(filters=512, kernel_size=3, activation='relu'))\n",
    "cnn.add(tf.keras.layers.MaxPool2D(pool_size=2, strides=2))"
   ],
   "metadata": {
    "collapsed": false,
    "ExecuteTime": {
     "end_time": "2024-03-13T03:58:44.434031Z",
     "start_time": "2024-03-13T03:58:44.388555Z"
    }
   },
   "id": "6df38b8bc585ab72",
   "execution_count": 9
  },
  {
   "cell_type": "code",
   "outputs": [],
   "source": [
    "cnn.add(tf.keras.layers.Dropout(0.25))\n",
    "cnn.add(tf.keras.layers.Flatten())\n",
    "cnn.add(tf.keras.layers.Dense(units=1500, activation='relu'))"
   ],
   "metadata": {
    "collapsed": false,
    "ExecuteTime": {
     "end_time": "2024-03-13T03:58:45.094725Z",
     "start_time": "2024-03-13T03:58:45.003825Z"
    }
   },
   "id": "a4828b669a6c361d",
   "execution_count": 10
  },
  {
   "cell_type": "code",
   "outputs": [],
   "source": [
    "cnn.add(tf.keras.layers.Dropout(0.4))\n",
    "cnn.add(tf.keras.layers.Dense(units=7, activation='softmax'))"
   ],
   "metadata": {
    "collapsed": false,
    "ExecuteTime": {
     "end_time": "2024-03-13T03:58:45.641407Z",
     "start_time": "2024-03-13T03:58:45.618696Z"
    }
   },
   "id": "f17cfd31a3e945de",
   "execution_count": 11
  },
  {
   "cell_type": "code",
   "outputs": [
    {
     "name": "stdout",
     "output_type": "stream",
     "text": [
      "Model: \"sequential\"\n",
      "_________________________________________________________________\n",
      " Layer (type)                Output Shape              Param #   \n",
      "=================================================================\n",
      " conv2d (Conv2D)             (None, 224, 224, 32)      896       \n",
      "                                                                 \n",
      " conv2d_1 (Conv2D)           (None, 222, 222, 32)      9248      \n",
      "                                                                 \n",
      " max_pooling2d (MaxPooling2  (None, 111, 111, 32)      0         \n",
      " D)                                                              \n",
      "                                                                 \n",
      " conv2d_2 (Conv2D)           (None, 111, 111, 64)      18496     \n",
      "                                                                 \n",
      " conv2d_3 (Conv2D)           (None, 109, 109, 64)      36928     \n",
      "                                                                 \n",
      " max_pooling2d_1 (MaxPoolin  (None, 54, 54, 64)        0         \n",
      " g2D)                                                            \n",
      "                                                                 \n",
      " conv2d_4 (Conv2D)           (None, 54, 54, 128)       73856     \n",
      "                                                                 \n",
      " conv2d_5 (Conv2D)           (None, 52, 52, 128)       147584    \n",
      "                                                                 \n",
      " max_pooling2d_2 (MaxPoolin  (None, 26, 26, 128)       0         \n",
      " g2D)                                                            \n",
      "                                                                 \n",
      " conv2d_6 (Conv2D)           (None, 26, 26, 256)       295168    \n",
      "                                                                 \n",
      " conv2d_7 (Conv2D)           (None, 24, 24, 256)       590080    \n",
      "                                                                 \n",
      " max_pooling2d_3 (MaxPoolin  (None, 12, 12, 256)       0         \n",
      " g2D)                                                            \n",
      "                                                                 \n",
      " conv2d_8 (Conv2D)           (None, 12, 12, 512)       1180160   \n",
      "                                                                 \n",
      " conv2d_9 (Conv2D)           (None, 10, 10, 512)       2359808   \n",
      "                                                                 \n",
      " max_pooling2d_4 (MaxPoolin  (None, 5, 5, 512)         0         \n",
      " g2D)                                                            \n",
      "                                                                 \n",
      " dropout (Dropout)           (None, 5, 5, 512)         0         \n",
      "                                                                 \n",
      " flatten (Flatten)           (None, 12800)             0         \n",
      "                                                                 \n",
      " dense (Dense)               (None, 1500)              19201500  \n",
      "                                                                 \n",
      " dropout_1 (Dropout)         (None, 1500)              0         \n",
      "                                                                 \n",
      " dense_1 (Dense)             (None, 7)                 10507     \n",
      "                                                                 \n",
      "=================================================================\n",
      "Total params: 23924231 (91.26 MB)\n",
      "Trainable params: 23924231 (91.26 MB)\n",
      "Non-trainable params: 0 (0.00 Byte)\n",
      "_________________________________________________________________\n"
     ]
    }
   ],
   "source": [
    "cnn.compile(optimizer=tf.keras.optimizers.legacy.Adam(learning_rate=0.0001), loss='categorical_crossentropy', metrics=['accuracy'])\n",
    "cnn.summary()"
   ],
   "metadata": {
    "collapsed": false,
    "ExecuteTime": {
     "end_time": "2024-03-13T03:58:46.336080Z",
     "start_time": "2024-03-13T03:58:46.294879Z"
    }
   },
   "id": "89c318bff3eb96d9",
   "execution_count": 12
  },
  {
   "cell_type": "code",
   "outputs": [
    {
     "name": "stdout",
     "output_type": "stream",
     "text": [
      "Epoch 1/20\n",
      "9/9 [==============================] - 19s 2s/step - loss: 0.9681 - accuracy: 0.6536 - val_loss: 1.4900 - val_accuracy: 0.5190\n",
      "Epoch 2/20\n",
      "9/9 [==============================] - 19s 2s/step - loss: 0.8304 - accuracy: 0.7036 - val_loss: 1.4491 - val_accuracy: 0.5380\n",
      "Epoch 3/20\n",
      "9/9 [==============================] - 19s 2s/step - loss: 0.6984 - accuracy: 0.7679 - val_loss: 1.5132 - val_accuracy: 0.5127\n",
      "Epoch 4/20\n",
      "9/9 [==============================] - 18s 2s/step - loss: 0.5554 - accuracy: 0.8250 - val_loss: 1.7586 - val_accuracy: 0.4937\n",
      "Epoch 5/20\n",
      "9/9 [==============================] - 19s 2s/step - loss: 0.5273 - accuracy: 0.8250 - val_loss: 1.5509 - val_accuracy: 0.5759\n",
      "Epoch 6/20\n",
      "9/9 [==============================] - 19s 2s/step - loss: 0.4648 - accuracy: 0.8357 - val_loss: 1.6635 - val_accuracy: 0.5886\n",
      "Epoch 7/20\n",
      "9/9 [==============================] - 19s 2s/step - loss: 0.3870 - accuracy: 0.8464 - val_loss: 1.9507 - val_accuracy: 0.5886\n",
      "Epoch 8/20\n",
      "9/9 [==============================] - 19s 2s/step - loss: 0.2281 - accuracy: 0.9500 - val_loss: 2.1236 - val_accuracy: 0.6266\n",
      "Epoch 9/20\n",
      "9/9 [==============================] - 19s 2s/step - loss: 0.1667 - accuracy: 0.9393 - val_loss: 2.1009 - val_accuracy: 0.6203\n",
      "Epoch 10/20\n",
      "9/9 [==============================] - 19s 2s/step - loss: 0.0993 - accuracy: 0.9857 - val_loss: 2.1410 - val_accuracy: 0.5949\n",
      "Epoch 11/20\n",
      "9/9 [==============================] - 18s 2s/step - loss: 0.1019 - accuracy: 0.9679 - val_loss: 2.3270 - val_accuracy: 0.6392\n",
      "Epoch 12/20\n",
      "9/9 [==============================] - 19s 2s/step - loss: 0.0583 - accuracy: 0.9857 - val_loss: 2.4561 - val_accuracy: 0.6392\n",
      "Epoch 13/20\n",
      "9/9 [==============================] - 18s 2s/step - loss: 0.0399 - accuracy: 0.9964 - val_loss: 2.9182 - val_accuracy: 0.6076\n",
      "Epoch 14/20\n",
      "9/9 [==============================] - 18s 2s/step - loss: 0.0244 - accuracy: 0.9929 - val_loss: 2.6647 - val_accuracy: 0.6076\n",
      "Epoch 15/20\n",
      "9/9 [==============================] - 19s 2s/step - loss: 0.0398 - accuracy: 0.9893 - val_loss: 3.1205 - val_accuracy: 0.6076\n",
      "Epoch 16/20\n",
      "9/9 [==============================] - 19s 2s/step - loss: 0.0331 - accuracy: 0.9857 - val_loss: 3.0807 - val_accuracy: 0.5696\n",
      "Epoch 17/20\n",
      "9/9 [==============================] - 19s 2s/step - loss: 0.0347 - accuracy: 0.9893 - val_loss: 2.6348 - val_accuracy: 0.6392\n",
      "Epoch 18/20\n",
      "9/9 [==============================] - 19s 2s/step - loss: 0.0261 - accuracy: 0.9964 - val_loss: 2.7585 - val_accuracy: 0.6203\n",
      "Epoch 19/20\n",
      "9/9 [==============================] - 19s 2s/step - loss: 0.0262 - accuracy: 0.9964 - val_loss: 2.7559 - val_accuracy: 0.6456\n",
      "Epoch 20/20\n",
      "9/9 [==============================] - 19s 2s/step - loss: 0.0281 - accuracy: 0.9893 - val_loss: 3.2178 - val_accuracy: 0.6266\n"
     ]
    }
   ],
   "source": [
    "training_history = cnn.fit(x=training_set, validation_data=validation_set, epochs=20)"
   ],
   "metadata": {
    "collapsed": false,
    "ExecuteTime": {
     "end_time": "2024-03-13T04:09:00.997916Z",
     "start_time": "2024-03-13T04:02:49.169724Z"
    }
   },
   "id": "55c98067cc2ea4b",
   "execution_count": 14
  },
  {
   "cell_type": "code",
   "outputs": [
    {
     "name": "stdout",
     "output_type": "stream",
     "text": [
      "9/9 [==============================] - 3s 315ms/step - loss: 0.0244 - accuracy: 0.9964\n",
      "Training accuracy: 0.9964285492897034\n"
     ]
    }
   ],
   "source": [
    "# accuracy of training\n",
    "train_loss, train_gain = cnn.evaluate(training_set)\n",
    "print('Training accuracy:', train_gain)"
   ],
   "metadata": {
    "collapsed": false,
    "ExecuteTime": {
     "end_time": "2024-03-13T04:10:29.455798Z",
     "start_time": "2024-03-13T04:10:26.354616Z"
    }
   },
   "id": "a68116ca27982a20",
   "execution_count": 15
  },
  {
   "cell_type": "code",
   "outputs": [
    {
     "name": "stdout",
     "output_type": "stream",
     "text": [
      "5/5 [==============================] - 2s 352ms/step - loss: 3.2178 - accuracy: 0.6266\n",
      "Validation accuracy: 0.6265822649002075\n"
     ]
    }
   ],
   "source": [
    "# accuracy of validation\n",
    "val_loss, val_gain = cnn.evaluate(validation_set)\n",
    "print('Validation accuracy:', val_gain)"
   ],
   "metadata": {
    "collapsed": false,
    "ExecuteTime": {
     "end_time": "2024-03-13T04:10:37.655380Z",
     "start_time": "2024-03-13T04:10:35.788016Z"
    }
   },
   "id": "21aeb0f8b528b8c5",
   "execution_count": 16
  },
  {
   "cell_type": "code",
   "outputs": [],
   "source": [
    "cnn.save('fish_disease_detection_model.keras')"
   ],
   "metadata": {
    "collapsed": false,
    "ExecuteTime": {
     "end_time": "2024-03-13T04:49:55.912062Z",
     "start_time": "2024-03-13T04:49:55.636847Z"
    }
   },
   "id": "619ce577b94fcbf6",
   "execution_count": 20
  },
  {
   "cell_type": "code",
   "outputs": [],
   "source": [],
   "metadata": {
    "collapsed": false
   },
   "id": "2787695d5530a952"
  }
 ],
 "metadata": {
  "kernelspec": {
   "display_name": "Python 3",
   "language": "python",
   "name": "python3"
  },
  "language_info": {
   "codemirror_mode": {
    "name": "ipython",
    "version": 2
   },
   "file_extension": ".py",
   "mimetype": "text/x-python",
   "name": "python",
   "nbconvert_exporter": "python",
   "pygments_lexer": "ipython2",
   "version": "2.7.6"
  }
 },
 "nbformat": 4,
 "nbformat_minor": 5
}
