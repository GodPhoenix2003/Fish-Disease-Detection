{
 "cells": [
  {
   "cell_type": "code",
   "execution_count": 19,
   "id": "initial_id",
   "metadata": {
    "collapsed": true,
    "ExecuteTime": {
     "end_time": "2024-04-01T16:42:06.054881Z",
     "start_time": "2024-04-01T16:42:06.040601Z"
    }
   },
   "outputs": [],
   "source": [
    "import tensorflow as tf\n",
    "import matplotlib.pyplot as plt\n",
    "import pandas as pd\n",
    "import seaborn as sns"
   ]
  },
  {
   "cell_type": "code",
   "outputs": [
    {
     "name": "stdout",
     "output_type": "stream",
     "text": [
      "Found 1747 files belonging to 7 classes.\n"
     ]
    }
   ],
   "source": [
    "training_set = tf.keras.utils.image_dataset_from_directory('C:/Fish Disease Detection/Dataset/Train',\n",
    "    labels=\"inferred\",\n",
    "    label_mode=\"categorical\",\n",
    "    class_names=None,\n",
    "    color_mode=\"rgb\",\n",
    "    batch_size=32,\n",
    "    image_size=(224, 224),\n",
    "    shuffle=True,\n",
    "    seed=None,\n",
    "    validation_split=None,\n",
    "    subset=None,\n",
    "    interpolation=\"bilinear\",\n",
    "    follow_links=False,\n",
    "    crop_to_aspect_ratio=False,\n",
    ")"
   ],
   "metadata": {
    "collapsed": false,
    "ExecuteTime": {
     "end_time": "2024-04-01T16:42:06.586123Z",
     "start_time": "2024-04-01T16:42:06.469537Z"
    }
   },
   "id": "dd146aa8f332e8d2",
   "execution_count": 20
  },
  {
   "cell_type": "code",
   "outputs": [
    {
     "name": "stdout",
     "output_type": "stream",
     "text": [
      "Found 697 files belonging to 7 classes.\n"
     ]
    }
   ],
   "source": [
    "validation_set = tf.keras.utils.image_dataset_from_directory('C:/Fish Disease Detection/Dataset/Test',\n",
    "    labels=\"inferred\",\n",
    "    label_mode=\"categorical\",\n",
    "    class_names=None,\n",
    "    color_mode=\"rgb\",\n",
    "    batch_size=32,\n",
    "    image_size=(224, 224),\n",
    "    shuffle=True,\n",
    "    seed=None,\n",
    "    validation_split=None,\n",
    "    subset=None,\n",
    "    interpolation=\"bilinear\",\n",
    "    follow_links=False,\n",
    "    crop_to_aspect_ratio=False\n",
    ")"
   ],
   "metadata": {
    "collapsed": false,
    "ExecuteTime": {
     "end_time": "2024-04-01T16:42:07.223544Z",
     "start_time": "2024-04-01T16:42:07.134909Z"
    }
   },
   "id": "2dc3c885f17d54d9",
   "execution_count": 21
  },
  {
   "cell_type": "code",
   "outputs": [
    {
     "data": {
      "text/plain": "[PhysicalDevice(name='/physical_device:GPU:0', device_type='GPU')]"
     },
     "execution_count": 22,
     "metadata": {},
     "output_type": "execute_result"
    }
   ],
   "source": [
    "tf.config.list_physical_devices('GPU')"
   ],
   "metadata": {
    "collapsed": false,
    "ExecuteTime": {
     "end_time": "2024-04-01T16:42:07.661763Z",
     "start_time": "2024-04-01T16:42:07.656382Z"
    }
   },
   "id": "83734b7a06c534f9",
   "execution_count": 22
  },
  {
   "cell_type": "code",
   "outputs": [],
   "source": [
    "cnn = tf.keras.models.Sequential()"
   ],
   "metadata": {
    "collapsed": false,
    "ExecuteTime": {
     "end_time": "2024-04-01T16:42:08.207931Z",
     "start_time": "2024-04-01T16:42:08.200785Z"
    }
   },
   "id": "757b297100d9599f",
   "execution_count": 23
  },
  {
   "cell_type": "code",
   "outputs": [],
   "source": [
    "cnn.add(tf.keras.layers.Conv2D(filters=32, kernel_size=3, padding='same', activation='relu', input_shape=[224,224,3]))\n",
    "cnn.add(tf.keras.layers.Conv2D(filters=32, kernel_size=3, activation='relu'))\n",
    "cnn.add(tf.keras.layers.MaxPool2D(pool_size=2, strides=2))"
   ],
   "metadata": {
    "collapsed": false,
    "ExecuteTime": {
     "end_time": "2024-04-01T16:42:08.750893Z",
     "start_time": "2024-04-01T16:42:08.718088Z"
    }
   },
   "id": "21f14a2d721aa694",
   "execution_count": 24
  },
  {
   "cell_type": "code",
   "outputs": [],
   "source": [
    "cnn.add(tf.keras.layers.Conv2D(filters=64, kernel_size=3, padding='same', activation='relu'))\n",
    "cnn.add(tf.keras.layers.Conv2D(filters=64, kernel_size=3, activation='relu'))\n",
    "cnn.add(tf.keras.layers.MaxPool2D(pool_size=2, strides=2))"
   ],
   "metadata": {
    "collapsed": false,
    "ExecuteTime": {
     "end_time": "2024-04-01T16:42:09.373556Z",
     "start_time": "2024-04-01T16:42:09.337156Z"
    }
   },
   "id": "621fe9d44055f469",
   "execution_count": 25
  },
  {
   "cell_type": "code",
   "outputs": [],
   "source": [
    "cnn.add(tf.keras.layers.Conv2D(filters=128, kernel_size=3, padding='same', activation='relu'))\n",
    "cnn.add(tf.keras.layers.Conv2D(filters=128, kernel_size=3, activation='relu'))\n",
    "cnn.add(tf.keras.layers.MaxPool2D(pool_size=2, strides=2))"
   ],
   "metadata": {
    "collapsed": false,
    "ExecuteTime": {
     "end_time": "2024-04-01T16:42:09.778351Z",
     "start_time": "2024-04-01T16:42:09.749905Z"
    }
   },
   "id": "1275c19dbd56f8c1",
   "execution_count": 26
  },
  {
   "cell_type": "code",
   "outputs": [],
   "source": [
    "cnn.add(tf.keras.layers.Conv2D(filters=256, kernel_size=3, padding='same', activation='relu'))\n",
    "cnn.add(tf.keras.layers.Conv2D(filters=256, kernel_size=3, activation='relu'))\n",
    "cnn.add(tf.keras.layers.MaxPool2D(pool_size=2, strides=2))"
   ],
   "metadata": {
    "collapsed": false,
    "ExecuteTime": {
     "end_time": "2024-04-01T16:42:10.213814Z",
     "start_time": "2024-04-01T16:42:10.184669Z"
    }
   },
   "id": "9d6b36b3419e6e5f",
   "execution_count": 27
  },
  {
   "cell_type": "code",
   "outputs": [],
   "source": [
    "cnn.add(tf.keras.layers.Conv2D(filters=512, kernel_size=3, padding='same', activation='relu'))\n",
    "cnn.add(tf.keras.layers.Conv2D(filters=512, kernel_size=3, activation='relu'))\n",
    "cnn.add(tf.keras.layers.MaxPool2D(pool_size=2, strides=2))"
   ],
   "metadata": {
    "collapsed": false,
    "ExecuteTime": {
     "end_time": "2024-04-01T16:42:10.788056Z",
     "start_time": "2024-04-01T16:42:10.754758Z"
    }
   },
   "id": "6df38b8bc585ab72",
   "execution_count": 28
  },
  {
   "cell_type": "code",
   "outputs": [],
   "source": [
    "cnn.add(tf.keras.layers.Conv2D(filters=1028, kernel_size=3, padding='same', activation='relu'))\n",
    "cnn.add(tf.keras.layers.Conv2D(filters=1028, kernel_size=3, activation='relu'))\n",
    "cnn.add(tf.keras.layers.MaxPool2D(pool_size=2, strides=2))"
   ],
   "metadata": {
    "collapsed": false,
    "ExecuteTime": {
     "end_time": "2024-04-01T16:42:11.191838Z",
     "start_time": "2024-04-01T16:42:11.159941Z"
    }
   },
   "id": "fc7b046fa72ae226",
   "execution_count": 29
  },
  {
   "cell_type": "code",
   "outputs": [],
   "source": [
    "cnn.add(tf.keras.layers.Dropout(0.25))\n",
    "cnn.add(tf.keras.layers.Flatten())\n",
    "cnn.add(tf.keras.layers.Dense(units=1500, activation='relu'))"
   ],
   "metadata": {
    "collapsed": false,
    "ExecuteTime": {
     "end_time": "2024-04-01T16:42:11.657393Z",
     "start_time": "2024-04-01T16:42:11.631673Z"
    }
   },
   "id": "a4828b669a6c361d",
   "execution_count": 30
  },
  {
   "cell_type": "code",
   "outputs": [],
   "source": [
    "cnn.add(tf.keras.layers.Dropout(0.4))\n",
    "cnn.add(tf.keras.layers.Dense(units=7, activation='softmax'))"
   ],
   "metadata": {
    "collapsed": false,
    "ExecuteTime": {
     "end_time": "2024-04-01T16:42:12.106838Z",
     "start_time": "2024-04-01T16:42:12.082613Z"
    }
   },
   "id": "f17cfd31a3e945de",
   "execution_count": 31
  },
  {
   "cell_type": "code",
   "outputs": [
    {
     "name": "stdout",
     "output_type": "stream",
     "text": [
      "Model: \"sequential_1\"\n",
      "_________________________________________________________________\n",
      " Layer (type)                Output Shape              Param #   \n",
      "=================================================================\n",
      " conv2d_12 (Conv2D)          (None, 224, 224, 32)      896       \n",
      "                                                                 \n",
      " conv2d_13 (Conv2D)          (None, 222, 222, 32)      9248      \n",
      "                                                                 \n",
      " max_pooling2d_6 (MaxPooling  (None, 111, 111, 32)     0         \n",
      " 2D)                                                             \n",
      "                                                                 \n",
      " conv2d_14 (Conv2D)          (None, 111, 111, 64)      18496     \n",
      "                                                                 \n",
      " conv2d_15 (Conv2D)          (None, 109, 109, 64)      36928     \n",
      "                                                                 \n",
      " max_pooling2d_7 (MaxPooling  (None, 54, 54, 64)       0         \n",
      " 2D)                                                             \n",
      "                                                                 \n",
      " conv2d_16 (Conv2D)          (None, 54, 54, 128)       73856     \n",
      "                                                                 \n",
      " conv2d_17 (Conv2D)          (None, 52, 52, 128)       147584    \n",
      "                                                                 \n",
      " max_pooling2d_8 (MaxPooling  (None, 26, 26, 128)      0         \n",
      " 2D)                                                             \n",
      "                                                                 \n",
      " conv2d_18 (Conv2D)          (None, 26, 26, 256)       295168    \n",
      "                                                                 \n",
      " conv2d_19 (Conv2D)          (None, 24, 24, 256)       590080    \n",
      "                                                                 \n",
      " max_pooling2d_9 (MaxPooling  (None, 12, 12, 256)      0         \n",
      " 2D)                                                             \n",
      "                                                                 \n",
      " conv2d_20 (Conv2D)          (None, 12, 12, 512)       1180160   \n",
      "                                                                 \n",
      " conv2d_21 (Conv2D)          (None, 10, 10, 512)       2359808   \n",
      "                                                                 \n",
      " max_pooling2d_10 (MaxPoolin  (None, 5, 5, 512)        0         \n",
      " g2D)                                                            \n",
      "                                                                 \n",
      " conv2d_22 (Conv2D)          (None, 5, 5, 1028)        4738052   \n",
      "                                                                 \n",
      " conv2d_23 (Conv2D)          (None, 3, 3, 1028)        9512084   \n",
      "                                                                 \n",
      " max_pooling2d_11 (MaxPoolin  (None, 1, 1, 1028)       0         \n",
      " g2D)                                                            \n",
      "                                                                 \n",
      " dropout_2 (Dropout)         (None, 1, 1, 1028)        0         \n",
      "                                                                 \n",
      " flatten_1 (Flatten)         (None, 1028)              0         \n",
      "                                                                 \n",
      " dense_2 (Dense)             (None, 1500)              1543500   \n",
      "                                                                 \n",
      " dropout_3 (Dropout)         (None, 1500)              0         \n",
      "                                                                 \n",
      " dense_3 (Dense)             (None, 7)                 10507     \n",
      "                                                                 \n",
      "=================================================================\n",
      "Total params: 20,516,367\n",
      "Trainable params: 20,516,367\n",
      "Non-trainable params: 0\n",
      "_________________________________________________________________\n"
     ]
    }
   ],
   "source": [
    "cnn.compile(optimizer=tf.keras.optimizers.legacy.Adam(learning_rate=0.0001), loss='categorical_crossentropy', metrics=['accuracy'])\n",
    "cnn.summary()"
   ],
   "metadata": {
    "collapsed": false,
    "ExecuteTime": {
     "end_time": "2024-04-01T16:42:12.587455Z",
     "start_time": "2024-04-01T16:42:12.549864Z"
    }
   },
   "id": "89c318bff3eb96d9",
   "execution_count": 32
  },
  {
   "cell_type": "code",
   "outputs": [
    {
     "name": "stdout",
     "output_type": "stream",
     "text": [
      "Epoch 1/40\n",
      "55/55 [==============================] - 7s 126ms/step - loss: 0.3204 - accuracy: 0.8941 - val_loss: 0.1886 - val_accuracy: 0.9268\n",
      "Epoch 2/40\n",
      "55/55 [==============================] - 7s 122ms/step - loss: 0.3869 - accuracy: 0.8689 - val_loss: 0.2102 - val_accuracy: 0.9211\n",
      "Epoch 3/40\n",
      "55/55 [==============================] - 7s 123ms/step - loss: 0.1789 - accuracy: 0.9399 - val_loss: 0.2644 - val_accuracy: 0.9110\n",
      "Epoch 4/40\n",
      "55/55 [==============================] - 7s 125ms/step - loss: 0.2960 - accuracy: 0.9084 - val_loss: 0.1749 - val_accuracy: 0.9484\n",
      "Epoch 5/40\n",
      "55/55 [==============================] - 7s 127ms/step - loss: 0.2173 - accuracy: 0.9319 - val_loss: 0.2124 - val_accuracy: 0.9283\n",
      "Epoch 6/40\n",
      "55/55 [==============================] - 7s 130ms/step - loss: 0.2306 - accuracy: 0.9256 - val_loss: 0.0532 - val_accuracy: 0.9871\n",
      "Epoch 7/40\n",
      "55/55 [==============================] - 7s 128ms/step - loss: 0.1433 - accuracy: 0.9582 - val_loss: 0.0837 - val_accuracy: 0.9770\n",
      "Epoch 8/40\n",
      "55/55 [==============================] - 7s 129ms/step - loss: 0.1880 - accuracy: 0.9393 - val_loss: 0.0764 - val_accuracy: 0.9799\n",
      "Epoch 9/40\n",
      "55/55 [==============================] - 7s 128ms/step - loss: 0.0783 - accuracy: 0.9754 - val_loss: 0.0224 - val_accuracy: 0.9957\n",
      "Epoch 10/40\n",
      "55/55 [==============================] - 7s 130ms/step - loss: 0.0713 - accuracy: 0.9777 - val_loss: 0.0441 - val_accuracy: 0.9828\n",
      "Epoch 11/40\n",
      "55/55 [==============================] - 7s 130ms/step - loss: 0.1236 - accuracy: 0.9697 - val_loss: 0.0751 - val_accuracy: 0.9857\n",
      "Epoch 12/40\n",
      "55/55 [==============================] - 7s 129ms/step - loss: 0.0779 - accuracy: 0.9782 - val_loss: 0.0278 - val_accuracy: 0.9971\n",
      "Epoch 13/40\n",
      "55/55 [==============================] - 7s 128ms/step - loss: 0.0457 - accuracy: 0.9886 - val_loss: 0.0198 - val_accuracy: 0.9971\n",
      "Epoch 14/40\n",
      "55/55 [==============================] - 7s 129ms/step - loss: 0.1855 - accuracy: 0.9428 - val_loss: 0.2226 - val_accuracy: 0.9397\n",
      "Epoch 15/40\n",
      "55/55 [==============================] - 7s 130ms/step - loss: 0.0956 - accuracy: 0.9691 - val_loss: 0.0157 - val_accuracy: 0.9957\n",
      "Epoch 16/40\n",
      "55/55 [==============================] - 7s 131ms/step - loss: 0.0301 - accuracy: 0.9931 - val_loss: 0.0467 - val_accuracy: 0.9871\n",
      "Epoch 17/40\n",
      "55/55 [==============================] - 7s 130ms/step - loss: 0.0583 - accuracy: 0.9840 - val_loss: 0.0450 - val_accuracy: 0.9900\n",
      "Epoch 18/40\n",
      "55/55 [==============================] - 7s 129ms/step - loss: 0.0417 - accuracy: 0.9868 - val_loss: 0.0203 - val_accuracy: 0.9957\n",
      "Epoch 19/40\n",
      "55/55 [==============================] - 7s 129ms/step - loss: 0.0389 - accuracy: 0.9897 - val_loss: 0.0106 - val_accuracy: 0.9957\n",
      "Epoch 20/40\n",
      "55/55 [==============================] - 7s 131ms/step - loss: 0.0228 - accuracy: 0.9914 - val_loss: 0.0209 - val_accuracy: 0.9971\n",
      "Epoch 21/40\n",
      "55/55 [==============================] - 7s 130ms/step - loss: 0.0345 - accuracy: 0.9897 - val_loss: 0.0235 - val_accuracy: 0.9943\n",
      "Epoch 22/40\n",
      "55/55 [==============================] - 7s 130ms/step - loss: 0.0140 - accuracy: 0.9948 - val_loss: 0.0042 - val_accuracy: 0.9986\n",
      "Epoch 23/40\n",
      "55/55 [==============================] - 7s 130ms/step - loss: 0.0102 - accuracy: 0.9971 - val_loss: 0.0050 - val_accuracy: 0.9986\n",
      "Epoch 24/40\n",
      "55/55 [==============================] - 7s 130ms/step - loss: 0.0148 - accuracy: 0.9937 - val_loss: 0.0052 - val_accuracy: 0.9986\n",
      "Epoch 25/40\n",
      "55/55 [==============================] - 7s 130ms/step - loss: 0.0136 - accuracy: 0.9948 - val_loss: 0.0056 - val_accuracy: 0.9971\n",
      "Epoch 26/40\n",
      "55/55 [==============================] - 7s 130ms/step - loss: 0.0222 - accuracy: 0.9943 - val_loss: 0.0068 - val_accuracy: 0.9986\n",
      "Epoch 27/40\n",
      "55/55 [==============================] - 7s 130ms/step - loss: 0.0109 - accuracy: 0.9954 - val_loss: 0.0031 - val_accuracy: 0.9986\n",
      "Epoch 28/40\n",
      "55/55 [==============================] - 7s 132ms/step - loss: 0.0065 - accuracy: 0.9983 - val_loss: 0.0044 - val_accuracy: 0.9986\n",
      "Epoch 29/40\n",
      "55/55 [==============================] - 7s 129ms/step - loss: 0.0046 - accuracy: 0.9977 - val_loss: 0.0032 - val_accuracy: 0.9986\n",
      "Epoch 30/40\n",
      "55/55 [==============================] - 7s 131ms/step - loss: 0.0034 - accuracy: 0.9977 - val_loss: 0.0031 - val_accuracy: 0.9986\n",
      "Epoch 31/40\n",
      "55/55 [==============================] - 7s 130ms/step - loss: 0.0037 - accuracy: 0.9983 - val_loss: 0.0032 - val_accuracy: 0.9986\n",
      "Epoch 32/40\n",
      "55/55 [==============================] - 7s 130ms/step - loss: 0.0031 - accuracy: 0.9983 - val_loss: 0.0034 - val_accuracy: 0.9986\n",
      "Epoch 33/40\n",
      "55/55 [==============================] - 7s 130ms/step - loss: 0.0028 - accuracy: 0.9983 - val_loss: 0.0028 - val_accuracy: 0.9986\n",
      "Epoch 34/40\n",
      "55/55 [==============================] - 7s 130ms/step - loss: 0.0033 - accuracy: 0.9989 - val_loss: 0.0036 - val_accuracy: 0.9986\n",
      "Epoch 35/40\n",
      "55/55 [==============================] - 7s 130ms/step - loss: 0.0024 - accuracy: 0.9983 - val_loss: 0.0031 - val_accuracy: 0.9986\n",
      "Epoch 36/40\n",
      "55/55 [==============================] - 7s 130ms/step - loss: 0.0032 - accuracy: 0.9989 - val_loss: 0.0029 - val_accuracy: 0.9986\n",
      "Epoch 37/40\n",
      "55/55 [==============================] - 7s 130ms/step - loss: 0.0032 - accuracy: 0.9977 - val_loss: 0.0034 - val_accuracy: 0.9986\n",
      "Epoch 38/40\n",
      "55/55 [==============================] - 7s 131ms/step - loss: 0.0019 - accuracy: 0.9989 - val_loss: 0.0027 - val_accuracy: 0.9986\n",
      "Epoch 39/40\n",
      "55/55 [==============================] - 7s 131ms/step - loss: 0.0018 - accuracy: 0.9989 - val_loss: 0.0028 - val_accuracy: 0.9986\n",
      "Epoch 40/40\n",
      "55/55 [==============================] - 7s 131ms/step - loss: 0.0021 - accuracy: 0.9983 - val_loss: 0.0028 - val_accuracy: 0.9986\n"
     ]
    }
   ],
   "source": [
    "training_history = cnn.fit(x=training_set, validation_data=validation_set, epochs=40)"
   ],
   "metadata": {
    "collapsed": false,
    "ExecuteTime": {
     "end_time": "2024-04-01T16:49:34.268954Z",
     "start_time": "2024-04-01T16:44:48.081703Z"
    }
   },
   "id": "55c98067cc2ea4b",
   "execution_count": 37
  },
  {
   "cell_type": "code",
   "outputs": [
    {
     "name": "stdout",
     "output_type": "stream",
     "text": [
      "55/55 [==============================] - 2s 36ms/step - loss: 0.0017 - accuracy: 0.9989\n",
      "Training accuracy: 0.9988551735877991\n"
     ]
    }
   ],
   "source": [
    "# accuracy of training\n",
    "train_loss, train_gain = cnn.evaluate(training_set)\n",
    "print('Training accuracy:', train_gain)"
   ],
   "metadata": {
    "collapsed": false,
    "ExecuteTime": {
     "end_time": "2024-04-01T16:49:36.341244Z",
     "start_time": "2024-04-01T16:49:34.270042Z"
    }
   },
   "id": "a68116ca27982a20",
   "execution_count": 38
  },
  {
   "cell_type": "code",
   "outputs": [
    {
     "name": "stdout",
     "output_type": "stream",
     "text": [
      "22/22 [==============================] - 1s 35ms/step - loss: 0.0028 - accuracy: 0.9986\n",
      "Validation accuracy: 0.9985652565956116\n"
     ]
    }
   ],
   "source": [
    "# accuracy of validation\n",
    "val_loss, val_gain = cnn.evaluate(validation_set)\n",
    "print('Validation accuracy:', val_gain)"
   ],
   "metadata": {
    "collapsed": false,
    "ExecuteTime": {
     "end_time": "2024-04-01T16:49:37.192684Z",
     "start_time": "2024-04-01T16:49:36.342371Z"
    }
   },
   "id": "21aeb0f8b528b8c5",
   "execution_count": 39
  },
  {
   "cell_type": "code",
   "outputs": [],
   "source": [
    "cnn.save('fish_disease_detection_model.keras')"
   ],
   "metadata": {
    "collapsed": false,
    "ExecuteTime": {
     "end_time": "2024-04-01T16:49:37.563073Z",
     "start_time": "2024-04-01T16:49:37.193821Z"
    }
   },
   "id": "619ce577b94fcbf6",
   "execution_count": 40
  },
  {
   "cell_type": "code",
   "outputs": [],
   "source": [],
   "metadata": {
    "collapsed": false,
    "ExecuteTime": {
     "end_time": "2024-04-01T16:41:00.967844Z",
     "start_time": "2024-04-01T16:41:00.952413Z"
    }
   },
   "id": "2787695d5530a952",
   "execution_count": 18
  }
 ],
 "metadata": {
  "kernelspec": {
   "display_name": "Python 3",
   "language": "python",
   "name": "python3"
  },
  "language_info": {
   "codemirror_mode": {
    "name": "ipython",
    "version": 2
   },
   "file_extension": ".py",
   "mimetype": "text/x-python",
   "name": "python",
   "nbconvert_exporter": "python",
   "pygments_lexer": "ipython2",
   "version": "2.7.6"
  }
 },
 "nbformat": 4,
 "nbformat_minor": 5
}
